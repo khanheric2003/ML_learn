{
 "cells": [
  {
   "cell_type": "code",
   "execution_count": 1,
   "metadata": {},
   "outputs": [
    {
     "name": "stderr",
     "output_type": "stream",
     "text": [
      "c:\\Users\\ACER\\AppData\\Local\\Programs\\Python\\Python310\\lib\\site-packages\\scipy\\__init__.py:146: UserWarning: A NumPy version >=1.17.3 and <1.25.0 is required for this version of SciPy (detected version 1.25.1\n",
      "  warnings.warn(f\"A NumPy version >={np_minversion} and <{np_maxversion}\"\n"
     ]
    }
   ],
   "source": [
    "# import library\n",
    "\n",
    "from __future__ import print_function\n",
    "import numpy as np\n",
    "from sklearn import neighbors, datasets\n",
    "from sklearn.model_selection import train_test_split # for splitting data\n",
    "from sklearn.metrics import accuracy_score # for evaluating results \n",
    "import numpy as np\n",
    "import matplotlib.pyplot as plt\n",
    "from sklearn.datasets import make_classification"
   ]
  },
  {
   "cell_type": "code",
   "execution_count": 15,
   "metadata": {},
   "outputs": [
    {
     "name": "stdout",
     "output_type": "stream",
     "text": [
      "Labels: [0 1 2]\n",
      "Train size: 20 , test size: 130\n"
     ]
    }
   ],
   "source": [
    "# set random seed for Numpy random generators ( canreplace with any of 32 bit numbers)\n",
    "np.random.seed(7)\n",
    "\n",
    "\n",
    "# take existed dataset inside sklearn\n",
    "# classification task in ML ( take iris datasets to classify the data into categories)\n",
    "iris = datasets.load_iris()\n",
    "\n",
    "# predictor inputs in ML ( take iris datasets to predict) \n",
    "iris_X = iris.data\n",
    "\n",
    "# indicate predictor variable ouput\n",
    "iris_y = iris.target\n",
    "\n",
    "# printout unique label presented in array\n",
    "print(\"Labels:\", np.unique(iris_y))\n",
    "\n",
    "# Train-test split is a tool used to evaluate a machine learning model’s ability to predict a certain outcome accurately when exposed to real-world data it’s never seen before\n",
    "# split train and test\n",
    "# X_train \n",
    "X_train, X_test, y_train, y_test = train_test_split(iris_X, iris_y, test_size=130)  # 130 samples will be used to testing\n",
    "print(\"Train size:\", X_train.shape[0], \", test size:\", X_test.shape[0])"
   ]
  },
  {
   "cell_type": "code",
   "execution_count": 38,
   "metadata": {},
   "outputs": [
    {
     "name": "stdout",
     "output_type": "stream",
     "text": [
      "Accuracy of 1NN: 93.85 %\n"
     ]
    }
   ],
   "source": [
    "# creates an instance of the k-nearest neighbors classifier from the scikit-learn library. The parameter n_neighbors is set to 1, which means the classifier will use the nearest neighbor to make predictions.\n",
    "# The parameter p is set to 2, indicating that the Euclidean distance metric will be used for computing distances between data points.\n",
    "model = neighbors.KNeighborsClassifier(n_neighbors = 7, p = 2)\n",
    "\n",
    "# This line fits (trains) the k-nearest neighbors classifier using the training data.\n",
    "#  The X_train variable contains the training features (attribute values), and y_train contains the corresponding training labels (species in this case). \n",
    "# The model will use this data to learn the relationships between features and labels.\n",
    "model.fit(X_train, y_train)\n",
    "\n",
    "# uses the trained k-nearest neighbors classifier to predict the labels for the test data (X_test\n",
    "y_pred = model.predict(X_test)\n",
    "\n",
    "#  The accuracy_score function from scikit-learn is used to compare the predicted labels (y_pred) with the actual labels (y_test) and calculate the accuracy. \n",
    "print(\"Accuracy of 1NN: %.2f %%\" %(100*accuracy_score(y_test, y_pred)))\n",
    "\n",
    "# 1NN rất dễ gây ra hiện tượng overfitting. Để giảm thiểu việc này, ta có thể tăng lượng điểm lân cận lên,"
   ]
  },
  {
   "cell_type": "code",
   "execution_count": 39,
   "metadata": {},
   "outputs": [
    {
     "name": "stdout",
     "output_type": "stream",
     "text": [
      "Accuracy of 7NN (1/distance weights):  94.61538461538461\n"
     ]
    }
   ],
   "source": [
    "\n",
    "# added weights = ’distance’\n",
    "# (Giá trị mặc định của weights là ’uniform’, tương ứng với việc coi tất cả các điểm lân cận có giá trị như nhau như ở trên).\n",
    "model = neighbors.KNeighborsClassifier(n_neighbors = 7, p = 2, weights = \"distance\")\n",
    "model.fit(X_train, y_train)\n",
    "y_pred = model.predict(X_test)\n",
    "print(\"Accuracy of 7NN (1/distance weights): \",(100*accuracy_score(y_test,y_pred)))"
   ]
  },
  {
   "cell_type": "code",
   "execution_count": 40,
   "metadata": {},
   "outputs": [
    {
     "data": {
      "image/png": "[encoded data removed]",
      "text/plain": [
       "<Figure size 432x288 with 1 Axes>"
      ]
     },
     "metadata": {
      "needs_background": "light"
     },
     "output_type": "display_data"
    }
   ],
   "source": [
    "import numpy as np\n",
    "import matplotlib.pyplot as plt\n",
    "from sklearn.datasets import make_classification\n",
    "from sklearn.neighbors import KNeighborsClassifier\n",
    "\n",
    "# Generate synthetic data\n",
    "X, y = make_classification(n_samples=100, n_features=2, n_informative=2, n_redundant=0, random_state=42)\n",
    "\n",
    "# Fit a k-NN classifier with k=5\n",
    "knn = KNeighborsClassifier(n_neighbors=5)\n",
    "knn.fit(X, y)\n",
    "\n",
    "# Create a meshgrid to plot decision boundaries\n",
    "h = 0.02\n",
    "x_min, x_max = X[:, 0].min() - 1, X[:, 0].max() + 1\n",
    "y_min, y_max = X[:, 1].min() - 1, X[:, 1].max() + 1\n",
    "xx, yy = np.meshgrid(np.arange(x_min, x_max, h), np.arange(y_min, y_max, h))\n",
    "\n",
    "# Make predictions on the meshgrid points\n",
    "Z = knn.predict(np.c_[xx.ravel(), yy.ravel()])\n",
    "Z = Z.reshape(xx.shape)\n",
    "\n",
    "# Plot the decision boundaries and data points\n",
    "plt.contourf(xx, yy, Z, alpha=0.3)\n",
    "plt.scatter(X[:, 0], X[:, 1], c=y, cmap=plt.cm.Paired)\n",
    "plt.xlabel('Feature 1')\n",
    "plt.ylabel('Feature 2')\n",
    "plt.title('k-NN Classifier with Decision Boundaries')\n",
    "plt.show()\n"
   ]
  },
  {
   "cell_type": "code",
   "execution_count": null,
   "metadata": {},
   "outputs": [],
   "source": []
  },
  {
   "cell_type": "code",
   "execution_count": null,
   "metadata": {},
   "outputs": [],
   "source": []
  }
 ],
 "metadata": {
  "kernelspec": {
   "display_name": "Python 3",
   "language": "python",
   "name": "python3"
  },
  "language_info": {
   "codemirror_mode": {
    "name": "ipython",
    "version": 3
   },
   "file_extension": ".py",
   "mimetype": "text/x-python",
   "name": "python",
   "nbconvert_exporter": "python",
   "pygments_lexer": "ipython3",
   "version": "3.10.0"
  },
  "orig_nbformat": 4
 },
 "nbformat": 4,
 "nbformat_minor": 2
}
